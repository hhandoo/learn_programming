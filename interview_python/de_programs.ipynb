{
 "cells": [
  {
   "cell_type": "markdown",
   "id": "9f401173",
   "metadata": {},
   "source": [
    "Given a list of integers, find the index at which the sum of the left half of the list is equal to the right half."
   ]
  },
  {
   "cell_type": "code",
   "execution_count": 35,
   "id": "d84fe46b",
   "metadata": {},
   "outputs": [
    {
     "name": "stdout",
     "output_type": "stream",
     "text": [
      "3\n"
     ]
    }
   ],
   "source": [
    "nums = [1,7,3,6,5,6]\n",
    "\n",
    "\n",
    "\n",
    "def myfun(arr):\n",
    "    total_sum = sum(arr)\n",
    "    left_sum = 0\n",
    "    right_sum = None\n",
    "    for i in range(len(arr)):\n",
    "        right_sum = total_sum - left_sum - arr[i]\n",
    "        if left_sum == right_sum:\n",
    "            return i\n",
    "        left_sum += arr[i]\n",
    "    \n",
    "    return -1\n",
    "            \n",
    "\n",
    "print(myfun(nums))"
   ]
  },
  {
   "cell_type": "markdown",
   "id": "0438708e",
   "metadata": {},
   "source": [
    "Given a list of numeric elements, write an optimized code to shift all zeroes to end without using any extra space.\n",
    "\n",
    "# Input -\n",
    "l = [1, 2, 0, 4, -1, 5, 6, 0, 0, 7, 0]\n",
    "\n",
    "# Output -\n",
    "l = [1, 2, 4, -1, 5, 6, 7, 0, 0, 0, 0]\n"
   ]
  },
  {
   "cell_type": "code",
   "execution_count": 36,
   "id": "9dc1aa87",
   "metadata": {},
   "outputs": [
    {
     "name": "stdout",
     "output_type": "stream",
     "text": [
      "[1, 2, 4, -1, 5, 6, 7, 0, 0, 0, 0]\n"
     ]
    }
   ],
   "source": [
    "def shift_zeros(l: list):\n",
    "    pos = 0\n",
    "    for i in range(len(l)):\n",
    "        if l[i] != 0:\n",
    "            l[pos] = l[i]\n",
    "            pos += 1\n",
    "    for i in range(pos, len(l)):\n",
    "        l[i] = 0 \n",
    "\n",
    "    return l\n",
    "\n",
    "\n",
    "print(shift_zeros(l = [1, 2, 0, 4, -1, 5, 6, 0, 0, 7, 0]))"
   ]
  },
  {
   "cell_type": "markdown",
   "id": "3a3bd38c",
   "metadata": {},
   "source": [
    "Given a string, return the modified string having the character and its consistent count in least possible complexity.\n",
    "\n",
    "\n",
    "# Input -\n",
    "s = \"abcabbbccaabd\"\n",
    "\n",
    "# Output -\n",
    "s = \"a1b1c1a1b3c2a2b1d1\""
   ]
  },
  {
   "cell_type": "code",
   "execution_count": 59,
   "id": "9be60b86",
   "metadata": {},
   "outputs": [
    {
     "name": "stdout",
     "output_type": "stream",
     "text": [
      "{'b': 1, 'c': 2, 'a': 2, 'd': 1}\n",
      "None\n"
     ]
    }
   ],
   "source": [
    "def rle(mystr: str):\n",
    "    res = \"\"\n",
    "    mydct = {}\n",
    "    for i in range(1, len(mystr)):\n",
    "        if mystr[i] == mystr[i-1]:\n",
    "            mydct[mystr[i]] +=1\n",
    "\n",
    "        else:\n",
    "            # first_key = next(iter(mydct))\n",
    "            # res += f\"{first_key}{mydct[first_key]}\"\n",
    "            mydct[mystr[i]] = 1\n",
    "            \n",
    "\n",
    "    print(mydct)\n",
    "\n",
    "print(rle(\"abcabbbccaabd\"))"
   ]
  }
 ],
 "metadata": {
  "kernelspec": {
   "display_name": ".venv",
   "language": "python",
   "name": "python3"
  },
  "language_info": {
   "codemirror_mode": {
    "name": "ipython",
    "version": 3
   },
   "file_extension": ".py",
   "mimetype": "text/x-python",
   "name": "python",
   "nbconvert_exporter": "python",
   "pygments_lexer": "ipython3",
   "version": "3.12.3"
  }
 },
 "nbformat": 4,
 "nbformat_minor": 5
}
