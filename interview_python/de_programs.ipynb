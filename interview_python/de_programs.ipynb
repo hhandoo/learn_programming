{
 "cells": [
  {
   "cell_type": "markdown",
   "id": "9f401173",
   "metadata": {},
   "source": [
    "Given a list of integers, find the index at which the sum of the left half of the list is equal to the right half."
   ]
  },
  {
   "cell_type": "code",
   "execution_count": null,
   "id": "d84fe46b",
   "metadata": {},
   "outputs": [],
   "source": [
    "nums = [1,7,3,6,5,6]\n",
    "\n",
    "\n",
    "\n",
    "def myfun(arr):\n",
    "    total_sum = sum(arr)\n",
    "    left_sum = 0\n",
    "    right_sum = None\n",
    "    for i in range(len(arr)):\n",
    "        right_sum = total_sum - left_sum - arr[i]\n",
    "        if left_sum == right_sum:\n",
    "            return i\n",
    "        left_sum += arr[i]\n",
    "    \n",
    "    return -1\n",
    "            \n",
    "\n",
    "print(myfun(nums))"
   ]
  }
 ],
 "metadata": {
  "kernelspec": {
   "display_name": ".venv",
   "language": "python",
   "name": "python3"
  },
  "language_info": {
   "codemirror_mode": {
    "name": "ipython",
    "version": 3
   },
   "file_extension": ".py",
   "mimetype": "text/x-python",
   "name": "python",
   "nbconvert_exporter": "python",
   "pygments_lexer": "ipython3",
   "version": "3.12.3"
  }
 },
 "nbformat": 4,
 "nbformat_minor": 5
}
