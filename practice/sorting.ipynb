{
 "cells": [
  {
   "cell_type": "markdown",
   "metadata": {},
   "source": [
    "# Reverse a List\n"
   ]
  },
  {
   "cell_type": "code",
   "execution_count": 14,
   "metadata": {},
   "outputs": [
    {
     "name": "stdout",
     "output_type": "stream",
     "text": [
      "[9, 8, 7, 6, 5, 4, 3, 2, 1]\n"
     ]
    }
   ],
   "source": [
    "lst = [1, 2, 3, 4, 5, 6, 7, 8, 9]\n",
    "\n",
    "l = 0\n",
    "r = len(lst) - 1\n",
    "\n",
    "while l < r:\n",
    "    lst[l], lst[r] = lst[r], lst[l]\n",
    "    r -= 1\n",
    "    l += 1\n",
    "\n",
    "print(lst)"
   ]
  },
  {
   "cell_type": "code",
   "execution_count": 15,
   "metadata": {},
   "outputs": [],
   "source": [
    "mylist = [4, 7, 8, 3, 1, 2, 9]"
   ]
  },
  {
   "cell_type": "markdown",
   "metadata": {},
   "source": [
    "# Bubble Sort\n",
    "\n",
    "1. Start from the first element of the list.\n",
    "2. Compare it with the next element.\n",
    "3. If the first element is greater than the next, swap them.\n",
    "4. Move to the next pair of elements and repeat the process.\n",
    "5. The largest element \"bubbles up\" to the end of the list in each pass.\n",
    "6. Repeat this process for all elements until the list is sorted.\n",
    "\n",
    "\n",
    "## Time Complexity\n",
    "- Worst-case (O(n²)): When the list is in reverse order.\n",
    "- Best-case (O(n)): When the list is already sorted (with the swapped optimization).\n",
    "- Average-case (O(n²)): When elements are randomly distributed.\n",
    "\n"
   ]
  },
  {
   "cell_type": "code",
   "execution_count": null,
   "metadata": {},
   "outputs": [
    {
     "name": "stdout",
     "output_type": "stream",
     "text": [
      "4 7\n",
      "7 8\n",
      "8 3\n",
      "8 1\n",
      "8 2\n",
      "8 9\n",
      "4 7\n",
      "7 3\n",
      "7 1\n",
      "7 2\n",
      "7 8\n",
      "4 3\n",
      "4 1\n",
      "4 2\n",
      "4 7\n",
      "3 1\n",
      "3 2\n",
      "3 4\n",
      "1 2\n",
      "2 3\n",
      "[1, 2, 3, 4, 7, 8, 9]\n"
     ]
    }
   ],
   "source": [
    "def bubble_sort(arr: list):\n",
    "    n = len(arr)\n",
    "    for i in range(n - 1): # Outer loop for passes picks up 4, 7, 8, 3 and so on\n",
    "        swapped = False # Flag to optimize\n",
    "\n",
    "        for j in range(n-1-i): # Inner loop for comparisons compares 4 with 7, 7 with 8, 8 with 3 and so on and swaps them\n",
    "            print(arr[j], arr[j+1])\n",
    "            if arr[j] > arr[j + 1]:  # Swap if the element is greater than the next\n",
    "                arr[j], arr[j + 1] = arr[j + 1], arr[j]\n",
    "                swapped = True  # Mark that a swap happened\n",
    "        if not swapped:  # If no swaps occurred, the list is already sorted\n",
    "            break\n",
    "\n",
    "    return arr\n",
    "\n",
    "\n",
    "\n",
    "print(bubble_sort(mylist))"
   ]
  }
 ],
 "metadata": {
  "kernelspec": {
   "display_name": ".venv",
   "language": "python",
   "name": "python3"
  },
  "language_info": {
   "codemirror_mode": {
    "name": "ipython",
    "version": 3
   },
   "file_extension": ".py",
   "mimetype": "text/x-python",
   "name": "python",
   "nbconvert_exporter": "python",
   "pygments_lexer": "ipython3",
   "version": "3.12.3"
  }
 },
 "nbformat": 4,
 "nbformat_minor": 2
}
