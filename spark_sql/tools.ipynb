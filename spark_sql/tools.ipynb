{
 "cells": [
  {
   "cell_type": "markdown",
   "metadata": {},
   "source": [
    "# Libraries\n"
   ]
  },
  {
   "cell_type": "code",
   "execution_count": null,
   "metadata": {},
   "outputs": [],
   "source": [
    "import random\n",
    "import string\n",
    "from pyspark import StorageLevel\n",
    "from pyspark.sql import SparkSession, Window\n",
    "from pyspark.sql.functions import (\n",
    "    col,\n",
    "    coalesce,\n",
    "    count,\n",
    "    avg,\n",
    "    min,\n",
    "    max,\n",
    "    mean,\n",
    "    rank,\n",
    "    dense_rank,\n",
    "    lead,\n",
    "    lag,\n",
    "    row_number,\n",
    ")"
   ]
  },
  {
   "cell_type": "markdown",
   "metadata": {},
   "source": [
    "# Tools\n"
   ]
  },
  {
   "cell_type": "code",
   "execution_count": null,
   "metadata": {},
   "outputs": [],
   "source": [
    "def random_name(length=5):\n",
    "    \"\"\"Generate a random first name with given length.\"\"\"\n",
    "    return \"\".join(random.choices(string.ascii_lowercase, k=length)).capitalize()\n",
    "\n",
    "\n",
    "def random_last_name(length=7):\n",
    "    \"\"\"Generate a random last name with given length.\"\"\"\n",
    "    return \"\".join(random.choices(string.ascii_lowercase, k=length)).capitalize()\n",
    "\n",
    "\n",
    "def random_age(min_age=18, max_age=65):\n",
    "    \"\"\"Generate a random age between min_age and max_age.\"\"\"\n",
    "    return random.randint(min_age, max_age)\n",
    "\n",
    "\n",
    "def random_city():\n",
    "    \"\"\"Generate a random city from a predefined list.\"\"\"\n",
    "    cities = [\n",
    "        \"New York\",\n",
    "        \"Los Angeles\",\n",
    "        \"Chicago\",\n",
    "        \"Houston\",\n",
    "        \"Miami\",\n",
    "        \"San Francisco\",\n",
    "        \"Boston\",\n",
    "        \"Seattle\",\n",
    "    ]\n",
    "    return random.choice(cities)\n",
    "\n",
    "\n",
    "def generate_large_dataset(size=1000000):\n",
    "    \"\"\"Generate a dataset with incrementing IDs and human-like attributes.\"\"\"\n",
    "    data = [\n",
    "        (i, random_name(), random_last_name(), random_age(), random_city())\n",
    "        for i in range(1, size + 1)\n",
    "    ]\n",
    "    return data"
   ]
  },
  {
   "cell_type": "markdown",
   "metadata": {},
   "source": [
    "# Spark Session\n"
   ]
  },
  {
   "cell_type": "code",
   "execution_count": null,
   "metadata": {},
   "outputs": [],
   "source": [
    "spark = SparkSession.builder.getOrCreate()"
   ]
  },
  {
   "cell_type": "markdown",
   "metadata": {},
   "source": [
    "# Data\n"
   ]
  },
  {
   "cell_type": "code",
   "execution_count": null,
   "metadata": {},
   "outputs": [],
   "source": [
    "data = generate_large_dataset(100)\n",
    "\n",
    "\n",
    "df = spark.createDataFrame(\n",
    "    data=data, schema=[\"key\", \"first_name\", \"last_name\", \"age\", \"city\"]\n",
    ")"
   ]
  }
 ],
 "metadata": {
  "kernelspec": {
   "display_name": ".venv",
   "language": "python",
   "name": "python3"
  },
  "language_info": {
   "name": "python",
   "version": "3.12.3"
  }
 },
 "nbformat": 4,
 "nbformat_minor": 2
}
