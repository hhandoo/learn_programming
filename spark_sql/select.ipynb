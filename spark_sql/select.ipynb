{
 "cells": [
  {
   "cell_type": "code",
   "execution_count": 23,
   "metadata": {},
   "outputs": [],
   "source": [
    "%run tools.ipynb"
   ]
  },
  {
   "cell_type": "markdown",
   "metadata": {},
   "source": [
    "# SQL Code\n",
    "\n",
    "```SQL\n",
    "SELECT * FROM table_name;\n",
    "```"
   ]
  },
  {
   "cell_type": "code",
   "execution_count": 24,
   "metadata": {},
   "outputs": [
    {
     "name": "stdout",
     "output_type": "stream",
     "text": [
      "+---+----------+---------+---+-------------+\n",
      "|key|first_name|last_name|age|         city|\n",
      "+---+----------+---------+---+-------------+\n",
      "|  1|     Rsvni|  Kriqlbz| 40|      Houston|\n",
      "|  2|     Fmqzj|  Beshexr| 40|  Los Angeles|\n",
      "|  3|     Brgdn|  Dwxmnnu| 36|      Seattle|\n",
      "|  4|     Zgfiz|  Dfujwrg| 30|      Houston|\n",
      "|  5|     Gjacj|  Itcrrhm| 58|     New York|\n",
      "|  6|     Hdeha|  Hbpjraa| 53|     New York|\n",
      "|  7|     Pyfam|  Yshagak| 28|      Houston|\n",
      "|  8|     Hptbg|  Lmpcpsf| 31|       Boston|\n",
      "|  9|     Xopom|  Ulabufg| 25|      Houston|\n",
      "| 10|     Fpbfg|  Rosfelb| 19|San Francisco|\n",
      "| 11|     Xtqeo|  Wavbdlk| 20|      Chicago|\n",
      "| 12|     Ybeyl|  Zqylshm| 65|San Francisco|\n",
      "| 13|     Uacsn|  Rrgtpnr| 20|      Houston|\n",
      "| 14|     Zglbx|  Cdezkvn| 49|       Boston|\n",
      "| 15|     Ndchn|  Wcawhod| 44|      Seattle|\n",
      "| 16|     Xvyvp|  Hbdulgl| 21|  Los Angeles|\n",
      "| 17|     Yujbw|  Jnvztji| 18|  Los Angeles|\n",
      "| 18|     Sbzdk|  Jijatrt| 23|      Chicago|\n",
      "| 19|     Blmqi|  Wgrkhtx| 58|      Houston|\n",
      "| 20|     Ephhp|  Aypimpt| 42|      Seattle|\n",
      "+---+----------+---------+---+-------------+\n",
      "only showing top 20 rows\n",
      "\n"
     ]
    }
   ],
   "source": [
    "df.show()"
   ]
  },
  {
   "cell_type": "code",
   "execution_count": 25,
   "metadata": {},
   "outputs": [
    {
     "name": "stdout",
     "output_type": "stream",
     "text": [
      "+---+\n",
      "|key|\n",
      "+---+\n",
      "|  1|\n",
      "|  2|\n",
      "|  3|\n",
      "|  4|\n",
      "|  5|\n",
      "|  6|\n",
      "|  7|\n",
      "|  8|\n",
      "|  9|\n",
      "| 10|\n",
      "| 11|\n",
      "| 12|\n",
      "| 13|\n",
      "| 14|\n",
      "| 15|\n",
      "| 16|\n",
      "| 17|\n",
      "| 18|\n",
      "| 19|\n",
      "| 20|\n",
      "+---+\n",
      "only showing top 20 rows\n",
      "\n"
     ]
    }
   ],
   "source": [
    "df.select(\"key\").show()"
   ]
  },
  {
   "cell_type": "code",
   "execution_count": 27,
   "metadata": {},
   "outputs": [
    {
     "name": "stdout",
     "output_type": "stream",
     "text": [
      "+----------+\n",
      "|first_name|\n",
      "+----------+\n",
      "|     Rsvni|\n",
      "|     Fmqzj|\n",
      "|     Brgdn|\n",
      "|     Zgfiz|\n",
      "|     Gjacj|\n",
      "|     Hdeha|\n",
      "|     Pyfam|\n",
      "|     Hptbg|\n",
      "|     Xopom|\n",
      "|     Fpbfg|\n",
      "|     Xtqeo|\n",
      "|     Ybeyl|\n",
      "|     Uacsn|\n",
      "|     Zglbx|\n",
      "|     Ndchn|\n",
      "|     Xvyvp|\n",
      "|     Yujbw|\n",
      "|     Sbzdk|\n",
      "|     Blmqi|\n",
      "|     Ephhp|\n",
      "+----------+\n",
      "only showing top 20 rows\n",
      "\n"
     ]
    }
   ],
   "source": [
    "df.selectExpr(\"first_name\").show()"
   ]
  }
 ],
 "metadata": {
  "kernelspec": {
   "display_name": ".venv",
   "language": "python",
   "name": "python3"
  },
  "language_info": {
   "codemirror_mode": {
    "name": "ipython",
    "version": 3
   },
   "file_extension": ".py",
   "mimetype": "text/x-python",
   "name": "python",
   "nbconvert_exporter": "python",
   "pygments_lexer": "ipython3",
   "version": "3.12.3"
  }
 },
 "nbformat": 4,
 "nbformat_minor": 2
}
