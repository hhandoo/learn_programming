{
 "cells": [
  {
   "cell_type": "code",
   "execution_count": 6,
   "metadata": {},
   "outputs": [],
   "source": [
    "%run tools.ipynb"
   ]
  },
  {
   "cell_type": "markdown",
   "metadata": {},
   "source": [
    "```SQL \n",
    "SELECT * from table_name where i > 44;\n",
    "```"
   ]
  },
  {
   "cell_type": "code",
   "execution_count": 7,
   "metadata": {},
   "outputs": [
    {
     "name": "stdout",
     "output_type": "stream",
     "text": [
      "+---+----------+---------+---+-------------+\n",
      "|key|first_name|last_name|age|         city|\n",
      "+---+----------+---------+---+-------------+\n",
      "|  1|     Ddhrp|  Srltqnv| 57|      Seattle|\n",
      "|  2|     Zshov|  Vlltdiu| 56|        Miami|\n",
      "|  3|     Cixko|  Dsbipxd| 41|        Miami|\n",
      "|  4|     Vvbby|  Zkcoecu| 18|      Chicago|\n",
      "|  5|     Ydvxf|  Ojvgryn| 58|        Miami|\n",
      "|  6|     Nerlp|  Jijqftb| 51|     New York|\n",
      "|  7|     Szvzf|  Ruibwkp| 50|San Francisco|\n",
      "|  8|     Ffagm|  Vhicwdx| 40|      Seattle|\n",
      "|  9|     Kqlxj|  Niwxpqd| 35|     New York|\n",
      "| 10|     Hqhct|  Noygxbb| 34|      Houston|\n",
      "| 11|     Qrydg|  Ngdetfa| 47|       Boston|\n",
      "| 12|     Eucqs|  Dsdbtst| 57|     New York|\n",
      "| 13|     Bntes|  Mqwtmgx| 55|     New York|\n",
      "| 14|     Srcxd|  Sywsszc| 33|       Boston|\n",
      "| 15|     Ysxua|  Tgawxrv| 63|        Miami|\n",
      "| 16|     Cxyws|  Qlpumwq| 46|  Los Angeles|\n",
      "| 17|     Airjl|  Tyssrsg| 63|      Houston|\n",
      "| 18|     Wrzxq|  Dlmgtmh| 26|     New York|\n",
      "| 19|     Cgmhm|  Chmralk| 63|San Francisco|\n",
      "| 20|     Usclr|  Xzmprik| 32|      Chicago|\n",
      "+---+----------+---------+---+-------------+\n",
      "only showing top 20 rows\n",
      "\n"
     ]
    }
   ],
   "source": [
    "df.show()"
   ]
  },
  {
   "cell_type": "code",
   "execution_count": 8,
   "metadata": {},
   "outputs": [
    {
     "name": "stdout",
     "output_type": "stream",
     "text": [
      "+---+----------+---------+---+-------------+\n",
      "|key|first_name|last_name|age|         city|\n",
      "+---+----------+---------+---+-------------+\n",
      "| 45|     Cnwzk|  Wuytgci| 29|       Boston|\n",
      "| 46|     Rrnep|  Prwwgta| 33|      Houston|\n",
      "| 47|     Hqwhw|  Pxgdetq| 58|      Houston|\n",
      "| 48|     Tpxlh|  Cgeuftq| 32|      Seattle|\n",
      "| 49|     Jjvpi|  Jvyxvqm| 51|     New York|\n",
      "| 50|     Nrzcl|  Tlfvqrh| 35|      Chicago|\n",
      "| 51|     Xnvrz|  Mkeeilx| 31|      Seattle|\n",
      "| 52|     Syzhq|  Swzyidv| 21|      Chicago|\n",
      "| 53|     Jvhii|  Vijfqzf| 44|  Los Angeles|\n",
      "| 54|     Tilxf|  Uuueext| 54|      Chicago|\n",
      "| 55|     Vwhli|  Qnibtao| 47|San Francisco|\n",
      "| 56|     Yotxv|  Oivnztq| 60|       Boston|\n",
      "| 57|     Wpttw|  Qjeykug| 53|  Los Angeles|\n",
      "| 58|     Iwhfj|  Nryeruj| 56|      Houston|\n",
      "| 59|     Gmzds|  Dfhjprg| 25|      Chicago|\n",
      "| 60|     Mrnjb|  Kyoutsx| 48|        Miami|\n",
      "| 61|     Ymbta|  Ynokkke| 20|      Chicago|\n",
      "| 62|     Kbngj|  Oltedwg| 19|     New York|\n",
      "| 63|     Cqayh|  Tyikkcb| 31|        Miami|\n",
      "| 64|     Wyfee|  Pjfcwpm| 56|      Chicago|\n",
      "+---+----------+---------+---+-------------+\n",
      "only showing top 20 rows\n",
      "\n"
     ]
    }
   ],
   "source": [
    "df.filter(\"key>44\").show()"
   ]
  }
 ],
 "metadata": {
  "kernelspec": {
   "display_name": ".venv",
   "language": "python",
   "name": "python3"
  },
  "language_info": {
   "codemirror_mode": {
    "name": "ipython",
    "version": 3
   },
   "file_extension": ".py",
   "mimetype": "text/x-python",
   "name": "python",
   "nbconvert_exporter": "python",
   "pygments_lexer": "ipython3",
   "version": "3.12.3"
  }
 },
 "nbformat": 4,
 "nbformat_minor": 2
}
