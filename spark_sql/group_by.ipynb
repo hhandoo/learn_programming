{
 "cells": [
  {
   "cell_type": "code",
   "execution_count": 7,
   "metadata": {},
   "outputs": [],
   "source": [
    "%run tools.ipynb"
   ]
  },
  {
   "cell_type": "markdown",
   "metadata": {},
   "source": [
    "```SQL\n",
    "SELECT age, count(key) as users from table_name group by age;\n",
    "```\n"
   ]
  },
  {
   "cell_type": "code",
   "execution_count": 8,
   "metadata": {},
   "outputs": [
    {
     "name": "stdout",
     "output_type": "stream",
     "text": [
      "+---+----------+---------+---+-------------+\n",
      "|key|first_name|last_name|age|         city|\n",
      "+---+----------+---------+---+-------------+\n",
      "|  1|     Opelv|  Qioopey| 48|     New York|\n",
      "|  2|     Awsfp|  Takstyd| 18|       Boston|\n",
      "|  3|     Qckxk|  Wvfyyed| 65|     New York|\n",
      "|  4|     Nccnn|  Trgqcft| 31|      Houston|\n",
      "|  5|     Mjrgk|  Htsgkdw| 42|      Seattle|\n",
      "|  6|     Ntfni|  Itaqrhw| 25|  Los Angeles|\n",
      "|  7|     Vmxbr|  Wlgzykx| 51|     New York|\n",
      "|  8|     Waaom|  Ypbyfel| 34|      Seattle|\n",
      "|  9|     Ytcdc|  Yqegiua| 59|      Houston|\n",
      "| 10|     Vqnpw|  Csrxwjt| 65|     New York|\n",
      "| 11|     Yocon|  Xkcswbc| 31|       Boston|\n",
      "| 12|     Hkado|  Itdhobt| 38|        Miami|\n",
      "| 13|     Qzvoz|  Aqwpbnf| 62|      Chicago|\n",
      "| 14|     Ybzlj|  Ivjfduz| 30|  Los Angeles|\n",
      "| 15|     Twphz|  Skfqmdp| 52|San Francisco|\n",
      "| 16|     Rupgi|  Uxfstew| 51|     New York|\n",
      "| 17|     Gaxwc|  Gsjousa| 40|  Los Angeles|\n",
      "| 18|     Cwqsf|  Qcpiqlt| 39|       Boston|\n",
      "| 19|     Ksmrg|  Cjfhuxn| 37|      Houston|\n",
      "| 20|     Gwejl|  Mtsqzrd| 21|      Seattle|\n",
      "+---+----------+---------+---+-------------+\n",
      "only showing top 20 rows\n",
      "\n"
     ]
    }
   ],
   "source": [
    "df.show()"
   ]
  },
  {
   "cell_type": "code",
   "execution_count": 17,
   "metadata": {},
   "outputs": [
    {
     "name": "stdout",
     "output_type": "stream",
     "text": [
      "+---+-------------+\n",
      "|age|mean_of_names|\n",
      "+---+-------------+\n",
      "| 65|          4.0|\n",
      "| 34|          2.0|\n",
      "| 31|          3.0|\n",
      "| 25|          5.0|\n",
      "| 51|          2.0|\n",
      "| 48|          1.0|\n",
      "| 18|          3.0|\n",
      "| 59|          1.0|\n",
      "| 38|          3.0|\n",
      "| 42|          2.0|\n",
      "| 39|          4.0|\n",
      "| 52|          1.0|\n",
      "| 37|          4.0|\n",
      "| 55|          1.0|\n",
      "| 62|          1.0|\n",
      "| 49|          3.0|\n",
      "| 36|          3.0|\n",
      "| 21|          1.0|\n",
      "| 30|          2.0|\n",
      "| 40|          2.0|\n",
      "+---+-------------+\n",
      "only showing top 20 rows\n",
      "\n"
     ]
    }
   ],
   "source": [
    "df1 = df.groupBy(\"age\").agg(count(\"first_name\").alias(\"no_of_names\"))\n",
    "\n",
    "df2 = df1.groupBy(\"age\").agg(\n",
    "    mean(\"no_of_names\").alias(\"mean_of_names\")\n",
    ")\n",
    "\n",
    "df2.show()"
   ]
  }
 ],
 "metadata": {
  "kernelspec": {
   "display_name": ".venv",
   "language": "python",
   "name": "python3"
  },
  "language_info": {
   "codemirror_mode": {
    "name": "ipython",
    "version": 3
   },
   "file_extension": ".py",
   "mimetype": "text/x-python",
   "name": "python",
   "nbconvert_exporter": "python",
   "pygments_lexer": "ipython3",
   "version": "3.12.3"
  }
 },
 "nbformat": 4,
 "nbformat_minor": 2
}
