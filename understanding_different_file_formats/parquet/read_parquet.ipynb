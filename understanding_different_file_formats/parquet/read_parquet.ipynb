{
 "cells": [
  {
   "cell_type": "markdown",
   "id": "35604bf7",
   "metadata": {},
   "source": [
    "# Import Libraries"
   ]
  },
  {
   "cell_type": "code",
   "execution_count": 1,
   "id": "8f7a72a7",
   "metadata": {},
   "outputs": [],
   "source": [
    "from pyspark.sql import SparkSession\n",
    "from pyspark.sql.functions import explode, col\n"
   ]
  },
  {
   "cell_type": "code",
   "execution_count": 2,
   "id": "3fdbfd7b",
   "metadata": {},
   "outputs": [
    {
     "name": "stderr",
     "output_type": "stream",
     "text": [
      "25/04/15 02:49:18 WARN Utils: Your hostname, liptaap resolves to a loopback address: 127.0.1.1; using 192.168.1.3 instead (on interface wlo1)\n",
      "25/04/15 02:49:18 WARN Utils: Set SPARK_LOCAL_IP if you need to bind to another address\n",
      "Setting default log level to \"WARN\".\n",
      "To adjust logging level use sc.setLogLevel(newLevel). For SparkR, use setLogLevel(newLevel).\n",
      "25/04/15 02:49:20 WARN NativeCodeLoader: Unable to load native-hadoop library for your platform... using builtin-java classes where applicable\n"
     ]
    }
   ],
   "source": [
    "spark = SparkSession.builder \\\n",
    "    .appName(\"MyApp\") \\\n",
    "    .config(\"spark.driver.memory\", \"4g\") \\\n",
    "    .config(\"spark.executor.memory\", \"4g\") \\\n",
    "    .config(\"spark.executor.memoryOverhead\", \"1g\") \\\n",
    "    .getOrCreate()"
   ]
  },
  {
   "cell_type": "markdown",
   "id": "1270d871",
   "metadata": {},
   "source": [
    "# Read Json File"
   ]
  },
  {
   "cell_type": "code",
   "execution_count": 3,
   "id": "97ec9867",
   "metadata": {},
   "outputs": [
    {
     "name": "stderr",
     "output_type": "stream",
     "text": [
      "25/04/15 02:49:35 WARN GarbageCollectionMetrics: To enable non-built-in garbage collector(s) List(G1 Concurrent GC), users should configure it(them) to spark.eventLog.gcMetrics.youngGenerationGarbageCollectors or spark.eventLog.gcMetrics.oldGenerationGarbageCollectors\n",
      "25/04/15 02:49:36 WARN SparkStringUtils: Truncated the string representation of a plan since it was too large. This behavior can be adjusted by setting 'spark.sql.debug.maxToStringFields'.\n"
     ]
    }
   ],
   "source": [
    "df = spark.read.option(\"multiLine\", True).json(\"/home/kaeshur/Downloads/drug-label-0001-of-0013.json\")"
   ]
  },
  {
   "cell_type": "code",
   "execution_count": 4,
   "id": "46a98d59",
   "metadata": {},
   "outputs": [],
   "source": [
    "df_exploded = df.withColumn(\"result\", explode(col(\"results\"))).drop(\"results\")\n"
   ]
  },
  {
   "cell_type": "code",
   "execution_count": 8,
   "id": "d1a38817",
   "metadata": {},
   "outputs": [],
   "source": [
    "flattened_df = df_exploded.select(\n",
    "    col(\"result.id\").alias(\"id\"),\n",
    "    col(\"result.effective_time\").alias(\"effective_time\"),\n",
    "    col(\"result.active_ingredient\"),\n",
    "    col(\"result.drug_interactions\"),\n",
    "    col(\"result.openfda.*\") \n",
    ")\n"
   ]
  },
  {
   "cell_type": "code",
   "execution_count": null,
   "id": "99ec3b48",
   "metadata": {},
   "outputs": [
    {
     "name": "stderr",
     "output_type": "stream",
     "text": [
      "                                                                                \r"
     ]
    },
    {
     "data": {
      "text/plain": [
       "20000"
      ]
     },
     "execution_count": 10,
     "metadata": {},
     "output_type": "execute_result"
    }
   ],
   "source": [
    "flattened_df.count() # 20000"
   ]
  }
 ],
 "metadata": {
  "kernelspec": {
   "display_name": ".venv",
   "language": "python",
   "name": "python3"
  },
  "language_info": {
   "codemirror_mode": {
    "name": "ipython",
    "version": 3
   },
   "file_extension": ".py",
   "mimetype": "text/x-python",
   "name": "python",
   "nbconvert_exporter": "python",
   "pygments_lexer": "ipython3",
   "version": "3.12.3"
  }
 },
 "nbformat": 4,
 "nbformat_minor": 5
}
